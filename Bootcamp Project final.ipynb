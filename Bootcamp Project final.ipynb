{
 "cells": [
  {
   "cell_type": "markdown",
   "metadata": {
    "slideshow": {
     "slide_type": "slide"
    }
   },
   "source": [
    "## Importing the libraries"
   ]
  },
  {
   "cell_type": "code",
   "execution_count": 1,
   "metadata": {
    "slideshow": {
     "slide_type": "subslide"
    }
   },
   "outputs": [],
   "source": [
    "#important libraries to import.\n",
    "import pandas as pd\n",
    "import numpy as np\n",
    "import matplotlib.pyplot as plt\n",
    "import seaborn as sn\n",
    "from pandas_profiling import ProfileReport"
   ]
  },
  {
   "cell_type": "markdown",
   "metadata": {
    "slideshow": {
     "slide_type": "slide"
    }
   },
   "source": [
    "## 1. EDA"
   ]
  },
  {
   "cell_type": "code",
   "execution_count": 2,
   "metadata": {
    "slideshow": {
     "slide_type": "skip"
    }
   },
   "outputs": [],
   "source": [
    "#read the dataset.\n",
    "df = pd.read_csv('student_activity_data.csv')"
   ]
  },
  {
   "cell_type": "code",
   "execution_count": 3,
   "metadata": {
    "scrolled": true,
    "slideshow": {
     "slide_type": "skip"
    }
   },
   "outputs": [
    {
     "data": {
      "text/html": [
       "<div>\n",
       "<style scoped>\n",
       "    .dataframe tbody tr th:only-of-type {\n",
       "        vertical-align: middle;\n",
       "    }\n",
       "\n",
       "    .dataframe tbody tr th {\n",
       "        vertical-align: top;\n",
       "    }\n",
       "\n",
       "    .dataframe thead th {\n",
       "        text-align: right;\n",
       "    }\n",
       "</style>\n",
       "<table border=\"1\" class=\"dataframe\">\n",
       "  <thead>\n",
       "    <tr style=\"text-align: right;\">\n",
       "      <th></th>\n",
       "      <th>user</th>\n",
       "      <th>Grade</th>\n",
       "      <th>Active_subjects</th>\n",
       "      <th>Activated_subjects</th>\n",
       "      <th>Live_time_spent</th>\n",
       "      <th>Replay_time_spent</th>\n",
       "      <th>Total_time_spent</th>\n",
       "      <th>Live_sessions</th>\n",
       "      <th>Replay_sessions</th>\n",
       "      <th>Competition</th>\n",
       "      <th>Breakouts</th>\n",
       "      <th>Avg_ranking</th>\n",
       "      <th>Is_Converted</th>\n",
       "      <th>Is_Activated</th>\n",
       "      <th>Paid_amount</th>\n",
       "    </tr>\n",
       "  </thead>\n",
       "  <tbody>\n",
       "    <tr>\n",
       "      <th>0</th>\n",
       "      <td>1</td>\n",
       "      <td>6</td>\n",
       "      <td>1</td>\n",
       "      <td>1</td>\n",
       "      <td>81.816667</td>\n",
       "      <td>1.483333</td>\n",
       "      <td>83.300000</td>\n",
       "      <td>2</td>\n",
       "      <td>1</td>\n",
       "      <td>0</td>\n",
       "      <td>2</td>\n",
       "      <td>3.857143</td>\n",
       "      <td>0</td>\n",
       "      <td>1</td>\n",
       "      <td>0.0</td>\n",
       "    </tr>\n",
       "    <tr>\n",
       "      <th>1</th>\n",
       "      <td>2</td>\n",
       "      <td>12</td>\n",
       "      <td>1</td>\n",
       "      <td>0</td>\n",
       "      <td>0.000000</td>\n",
       "      <td>13.800000</td>\n",
       "      <td>13.800000</td>\n",
       "      <td>0</td>\n",
       "      <td>1</td>\n",
       "      <td>0</td>\n",
       "      <td>0</td>\n",
       "      <td>0.000000</td>\n",
       "      <td>0</td>\n",
       "      <td>0</td>\n",
       "      <td>0.0</td>\n",
       "    </tr>\n",
       "    <tr>\n",
       "      <th>2</th>\n",
       "      <td>3</td>\n",
       "      <td>12</td>\n",
       "      <td>1</td>\n",
       "      <td>0</td>\n",
       "      <td>0.000000</td>\n",
       "      <td>55.183333</td>\n",
       "      <td>55.183333</td>\n",
       "      <td>0</td>\n",
       "      <td>2</td>\n",
       "      <td>0</td>\n",
       "      <td>0</td>\n",
       "      <td>0.000000</td>\n",
       "      <td>0</td>\n",
       "      <td>0</td>\n",
       "      <td>0.0</td>\n",
       "    </tr>\n",
       "    <tr>\n",
       "      <th>3</th>\n",
       "      <td>4</td>\n",
       "      <td>12</td>\n",
       "      <td>1</td>\n",
       "      <td>0</td>\n",
       "      <td>7.216667</td>\n",
       "      <td>0.000000</td>\n",
       "      <td>7.216667</td>\n",
       "      <td>0</td>\n",
       "      <td>0</td>\n",
       "      <td>2</td>\n",
       "      <td>0</td>\n",
       "      <td>0.000000</td>\n",
       "      <td>0</td>\n",
       "      <td>0</td>\n",
       "      <td>0.0</td>\n",
       "    </tr>\n",
       "    <tr>\n",
       "      <th>4</th>\n",
       "      <td>5</td>\n",
       "      <td>9</td>\n",
       "      <td>2</td>\n",
       "      <td>0</td>\n",
       "      <td>0.000000</td>\n",
       "      <td>0.250000</td>\n",
       "      <td>0.250000</td>\n",
       "      <td>0</td>\n",
       "      <td>1</td>\n",
       "      <td>0</td>\n",
       "      <td>0</td>\n",
       "      <td>0.000000</td>\n",
       "      <td>0</td>\n",
       "      <td>0</td>\n",
       "      <td>0.0</td>\n",
       "    </tr>\n",
       "  </tbody>\n",
       "</table>\n",
       "</div>"
      ],
      "text/plain": [
       "   user  Grade  Active_subjects  Activated_subjects  Live_time_spent  \\\n",
       "0     1      6                1                   1        81.816667   \n",
       "1     2     12                1                   0         0.000000   \n",
       "2     3     12                1                   0         0.000000   \n",
       "3     4     12                1                   0         7.216667   \n",
       "4     5      9                2                   0         0.000000   \n",
       "\n",
       "   Replay_time_spent  Total_time_spent  Live_sessions  Replay_sessions  \\\n",
       "0           1.483333         83.300000              2                1   \n",
       "1          13.800000         13.800000              0                1   \n",
       "2          55.183333         55.183333              0                2   \n",
       "3           0.000000          7.216667              0                0   \n",
       "4           0.250000          0.250000              0                1   \n",
       "\n",
       "   Competition  Breakouts  Avg_ranking  Is_Converted  Is_Activated  \\\n",
       "0            0          2     3.857143             0             1   \n",
       "1            0          0     0.000000             0             0   \n",
       "2            0          0     0.000000             0             0   \n",
       "3            2          0     0.000000             0             0   \n",
       "4            0          0     0.000000             0             0   \n",
       "\n",
       "   Paid_amount  \n",
       "0          0.0  \n",
       "1          0.0  \n",
       "2          0.0  \n",
       "3          0.0  \n",
       "4          0.0  "
      ]
     },
     "execution_count": 3,
     "metadata": {},
     "output_type": "execute_result"
    }
   ],
   "source": [
    "#shows first 5 rows.\n",
    "df.head()"
   ]
  },
  {
   "cell_type": "code",
   "execution_count": 4,
   "metadata": {
    "slideshow": {
     "slide_type": "skip"
    }
   },
   "outputs": [
    {
     "data": {
      "text/html": [
       "<div>\n",
       "<style scoped>\n",
       "    .dataframe tbody tr th:only-of-type {\n",
       "        vertical-align: middle;\n",
       "    }\n",
       "\n",
       "    .dataframe tbody tr th {\n",
       "        vertical-align: top;\n",
       "    }\n",
       "\n",
       "    .dataframe thead th {\n",
       "        text-align: right;\n",
       "    }\n",
       "</style>\n",
       "<table border=\"1\" class=\"dataframe\">\n",
       "  <thead>\n",
       "    <tr style=\"text-align: right;\">\n",
       "      <th></th>\n",
       "      <th>user</th>\n",
       "      <th>Grade</th>\n",
       "      <th>Active_subjects</th>\n",
       "      <th>Activated_subjects</th>\n",
       "      <th>Live_time_spent</th>\n",
       "      <th>Replay_time_spent</th>\n",
       "      <th>Total_time_spent</th>\n",
       "      <th>Live_sessions</th>\n",
       "      <th>Replay_sessions</th>\n",
       "      <th>Competition</th>\n",
       "      <th>Breakouts</th>\n",
       "      <th>Avg_ranking</th>\n",
       "      <th>Is_Converted</th>\n",
       "      <th>Is_Activated</th>\n",
       "      <th>Paid_amount</th>\n",
       "    </tr>\n",
       "  </thead>\n",
       "  <tbody>\n",
       "    <tr>\n",
       "      <th>9995</th>\n",
       "      <td>9996</td>\n",
       "      <td>12</td>\n",
       "      <td>2</td>\n",
       "      <td>1</td>\n",
       "      <td>0.000000</td>\n",
       "      <td>106.200000</td>\n",
       "      <td>106.200000</td>\n",
       "      <td>0</td>\n",
       "      <td>3</td>\n",
       "      <td>0</td>\n",
       "      <td>0</td>\n",
       "      <td>0.0</td>\n",
       "      <td>0</td>\n",
       "      <td>1</td>\n",
       "      <td>0.0</td>\n",
       "    </tr>\n",
       "    <tr>\n",
       "      <th>9996</th>\n",
       "      <td>9997</td>\n",
       "      <td>10</td>\n",
       "      <td>4</td>\n",
       "      <td>0</td>\n",
       "      <td>68.316667</td>\n",
       "      <td>0.000000</td>\n",
       "      <td>68.316667</td>\n",
       "      <td>3</td>\n",
       "      <td>0</td>\n",
       "      <td>1</td>\n",
       "      <td>3</td>\n",
       "      <td>1.0</td>\n",
       "      <td>0</td>\n",
       "      <td>1</td>\n",
       "      <td>0.0</td>\n",
       "    </tr>\n",
       "    <tr>\n",
       "      <th>9997</th>\n",
       "      <td>9998</td>\n",
       "      <td>12</td>\n",
       "      <td>2</td>\n",
       "      <td>1</td>\n",
       "      <td>0.000000</td>\n",
       "      <td>175.466667</td>\n",
       "      <td>175.466667</td>\n",
       "      <td>0</td>\n",
       "      <td>6</td>\n",
       "      <td>0</td>\n",
       "      <td>0</td>\n",
       "      <td>0.0</td>\n",
       "      <td>0</td>\n",
       "      <td>1</td>\n",
       "      <td>0.0</td>\n",
       "    </tr>\n",
       "    <tr>\n",
       "      <th>9998</th>\n",
       "      <td>9999</td>\n",
       "      <td>11</td>\n",
       "      <td>1</td>\n",
       "      <td>0</td>\n",
       "      <td>0.000000</td>\n",
       "      <td>1.400000</td>\n",
       "      <td>1.400000</td>\n",
       "      <td>0</td>\n",
       "      <td>2</td>\n",
       "      <td>0</td>\n",
       "      <td>0</td>\n",
       "      <td>0.0</td>\n",
       "      <td>0</td>\n",
       "      <td>0</td>\n",
       "      <td>0.0</td>\n",
       "    </tr>\n",
       "    <tr>\n",
       "      <th>9999</th>\n",
       "      <td>10000</td>\n",
       "      <td>11</td>\n",
       "      <td>3</td>\n",
       "      <td>0</td>\n",
       "      <td>16.200000</td>\n",
       "      <td>13.350000</td>\n",
       "      <td>29.550000</td>\n",
       "      <td>0</td>\n",
       "      <td>2</td>\n",
       "      <td>1</td>\n",
       "      <td>0</td>\n",
       "      <td>0.0</td>\n",
       "      <td>0</td>\n",
       "      <td>0</td>\n",
       "      <td>0.0</td>\n",
       "    </tr>\n",
       "  </tbody>\n",
       "</table>\n",
       "</div>"
      ],
      "text/plain": [
       "       user  Grade  Active_subjects  Activated_subjects  Live_time_spent  \\\n",
       "9995   9996     12                2                   1         0.000000   \n",
       "9996   9997     10                4                   0        68.316667   \n",
       "9997   9998     12                2                   1         0.000000   \n",
       "9998   9999     11                1                   0         0.000000   \n",
       "9999  10000     11                3                   0        16.200000   \n",
       "\n",
       "      Replay_time_spent  Total_time_spent  Live_sessions  Replay_sessions  \\\n",
       "9995         106.200000        106.200000              0                3   \n",
       "9996           0.000000         68.316667              3                0   \n",
       "9997         175.466667        175.466667              0                6   \n",
       "9998           1.400000          1.400000              0                2   \n",
       "9999          13.350000         29.550000              0                2   \n",
       "\n",
       "      Competition  Breakouts  Avg_ranking  Is_Converted  Is_Activated  \\\n",
       "9995            0          0          0.0             0             1   \n",
       "9996            1          3          1.0             0             1   \n",
       "9997            0          0          0.0             0             1   \n",
       "9998            0          0          0.0             0             0   \n",
       "9999            1          0          0.0             0             0   \n",
       "\n",
       "      Paid_amount  \n",
       "9995          0.0  \n",
       "9996          0.0  \n",
       "9997          0.0  \n",
       "9998          0.0  \n",
       "9999          0.0  "
      ]
     },
     "execution_count": 4,
     "metadata": {},
     "output_type": "execute_result"
    }
   ],
   "source": [
    "#shows last 5 rows.\n",
    "df.tail()"
   ]
  },
  {
   "cell_type": "code",
   "execution_count": 5,
   "metadata": {
    "scrolled": true,
    "slideshow": {
     "slide_type": "subslide"
    }
   },
   "outputs": [
    {
     "name": "stdout",
     "output_type": "stream",
     "text": [
      "<class 'pandas.core.frame.DataFrame'>\n",
      "RangeIndex: 10000 entries, 0 to 9999\n",
      "Data columns (total 15 columns):\n",
      " #   Column              Non-Null Count  Dtype  \n",
      "---  ------              --------------  -----  \n",
      " 0   user                10000 non-null  int64  \n",
      " 1   Grade               10000 non-null  int64  \n",
      " 2   Active_subjects     10000 non-null  int64  \n",
      " 3   Activated_subjects  10000 non-null  int64  \n",
      " 4   Live_time_spent     10000 non-null  float64\n",
      " 5   Replay_time_spent   10000 non-null  float64\n",
      " 6   Total_time_spent    10000 non-null  float64\n",
      " 7   Live_sessions       10000 non-null  int64  \n",
      " 8   Replay_sessions     10000 non-null  int64  \n",
      " 9   Competition         10000 non-null  int64  \n",
      " 10  Breakouts           10000 non-null  int64  \n",
      " 11  Avg_ranking         10000 non-null  float64\n",
      " 12  Is_Converted        10000 non-null  int64  \n",
      " 13  Is_Activated        10000 non-null  int64  \n",
      " 14  Paid_amount         10000 non-null  float64\n",
      "dtypes: float64(5), int64(10)\n",
      "memory usage: 1.1 MB\n"
     ]
    }
   ],
   "source": [
    "#shows each column and its count and if there is null values or not and the data type.\n",
    "df.info()"
   ]
  },
  {
   "cell_type": "code",
   "execution_count": 6,
   "metadata": {
    "scrolled": false,
    "slideshow": {
     "slide_type": "skip"
    }
   },
   "outputs": [
    {
     "data": {
      "text/plain": [
       "Index(['user', 'Grade', 'Active_subjects', 'Activated_subjects',\n",
       "       'Live_time_spent', 'Replay_time_spent', 'Total_time_spent',\n",
       "       'Live_sessions', 'Replay_sessions', 'Competition', 'Breakouts',\n",
       "       'Avg_ranking', 'Is_Converted', 'Is_Activated', 'Paid_amount'],\n",
       "      dtype='object')"
      ]
     },
     "execution_count": 6,
     "metadata": {},
     "output_type": "execute_result"
    }
   ],
   "source": [
    "#shows column names.\n",
    "df.columns"
   ]
  },
  {
   "cell_type": "code",
   "execution_count": 6,
   "metadata": {
    "scrolled": true,
    "slideshow": {
     "slide_type": "subslide"
    }
   },
   "outputs": [
    {
     "data": {
      "text/html": [
       "<div>\n",
       "<style scoped>\n",
       "    .dataframe tbody tr th:only-of-type {\n",
       "        vertical-align: middle;\n",
       "    }\n",
       "\n",
       "    .dataframe tbody tr th {\n",
       "        vertical-align: top;\n",
       "    }\n",
       "\n",
       "    .dataframe thead th {\n",
       "        text-align: right;\n",
       "    }\n",
       "</style>\n",
       "<table border=\"1\" class=\"dataframe\">\n",
       "  <thead>\n",
       "    <tr style=\"text-align: right;\">\n",
       "      <th></th>\n",
       "      <th>user</th>\n",
       "      <th>Grade</th>\n",
       "      <th>Active_subjects</th>\n",
       "      <th>Activated_subjects</th>\n",
       "      <th>Live_time_spent</th>\n",
       "      <th>Replay_time_spent</th>\n",
       "      <th>Total_time_spent</th>\n",
       "      <th>Live_sessions</th>\n",
       "      <th>Replay_sessions</th>\n",
       "      <th>Competition</th>\n",
       "      <th>Breakouts</th>\n",
       "      <th>Avg_ranking</th>\n",
       "      <th>Is_Converted</th>\n",
       "      <th>Is_Activated</th>\n",
       "      <th>Paid_amount</th>\n",
       "    </tr>\n",
       "  </thead>\n",
       "  <tbody>\n",
       "    <tr>\n",
       "      <th>count</th>\n",
       "      <td>10000.00000</td>\n",
       "      <td>10000.000000</td>\n",
       "      <td>10000.000000</td>\n",
       "      <td>10000.000000</td>\n",
       "      <td>10000.000000</td>\n",
       "      <td>10000.000000</td>\n",
       "      <td>10000.000000</td>\n",
       "      <td>10000.000000</td>\n",
       "      <td>10000.000000</td>\n",
       "      <td>10000.00000</td>\n",
       "      <td>10000.000000</td>\n",
       "      <td>10000.000000</td>\n",
       "      <td>10000.000000</td>\n",
       "      <td>10000.000000</td>\n",
       "      <td>10000.000000</td>\n",
       "    </tr>\n",
       "    <tr>\n",
       "      <th>mean</th>\n",
       "      <td>5000.50000</td>\n",
       "      <td>9.797800</td>\n",
       "      <td>3.191000</td>\n",
       "      <td>0.795200</td>\n",
       "      <td>306.072680</td>\n",
       "      <td>122.378147</td>\n",
       "      <td>428.450827</td>\n",
       "      <td>10.960600</td>\n",
       "      <td>3.333000</td>\n",
       "      <td>4.25540</td>\n",
       "      <td>2.614200</td>\n",
       "      <td>1.405977</td>\n",
       "      <td>0.031200</td>\n",
       "      <td>0.459500</td>\n",
       "      <td>8.179270</td>\n",
       "    </tr>\n",
       "    <tr>\n",
       "      <th>std</th>\n",
       "      <td>2886.89568</td>\n",
       "      <td>2.631921</td>\n",
       "      <td>2.275618</td>\n",
       "      <td>1.341953</td>\n",
       "      <td>1364.086468</td>\n",
       "      <td>2921.344010</td>\n",
       "      <td>3308.242143</td>\n",
       "      <td>40.082811</td>\n",
       "      <td>8.391481</td>\n",
       "      <td>17.66681</td>\n",
       "      <td>13.687932</td>\n",
       "      <td>3.198166</td>\n",
       "      <td>0.173867</td>\n",
       "      <td>0.498382</td>\n",
       "      <td>56.673568</td>\n",
       "    </tr>\n",
       "    <tr>\n",
       "      <th>min</th>\n",
       "      <td>1.00000</td>\n",
       "      <td>0.000000</td>\n",
       "      <td>0.000000</td>\n",
       "      <td>0.000000</td>\n",
       "      <td>0.000000</td>\n",
       "      <td>0.000000</td>\n",
       "      <td>0.016667</td>\n",
       "      <td>0.000000</td>\n",
       "      <td>0.000000</td>\n",
       "      <td>0.00000</td>\n",
       "      <td>0.000000</td>\n",
       "      <td>0.000000</td>\n",
       "      <td>0.000000</td>\n",
       "      <td>0.000000</td>\n",
       "      <td>0.000000</td>\n",
       "    </tr>\n",
       "    <tr>\n",
       "      <th>25%</th>\n",
       "      <td>2500.75000</td>\n",
       "      <td>8.000000</td>\n",
       "      <td>1.000000</td>\n",
       "      <td>0.000000</td>\n",
       "      <td>1.800000</td>\n",
       "      <td>0.000000</td>\n",
       "      <td>4.879167</td>\n",
       "      <td>1.000000</td>\n",
       "      <td>0.000000</td>\n",
       "      <td>0.00000</td>\n",
       "      <td>0.000000</td>\n",
       "      <td>0.000000</td>\n",
       "      <td>0.000000</td>\n",
       "      <td>0.000000</td>\n",
       "      <td>0.000000</td>\n",
       "    </tr>\n",
       "    <tr>\n",
       "      <th>50%</th>\n",
       "      <td>5000.50000</td>\n",
       "      <td>11.000000</td>\n",
       "      <td>3.000000</td>\n",
       "      <td>0.000000</td>\n",
       "      <td>24.275000</td>\n",
       "      <td>1.550000</td>\n",
       "      <td>38.491667</td>\n",
       "      <td>2.000000</td>\n",
       "      <td>1.000000</td>\n",
       "      <td>1.00000</td>\n",
       "      <td>0.000000</td>\n",
       "      <td>0.000000</td>\n",
       "      <td>0.000000</td>\n",
       "      <td>0.000000</td>\n",
       "      <td>0.000000</td>\n",
       "    </tr>\n",
       "    <tr>\n",
       "      <th>75%</th>\n",
       "      <td>7500.25000</td>\n",
       "      <td>12.000000</td>\n",
       "      <td>4.000000</td>\n",
       "      <td>1.000000</td>\n",
       "      <td>172.837500</td>\n",
       "      <td>13.516667</td>\n",
       "      <td>226.658333</td>\n",
       "      <td>8.000000</td>\n",
       "      <td>3.000000</td>\n",
       "      <td>3.00000</td>\n",
       "      <td>1.000000</td>\n",
       "      <td>1.000000</td>\n",
       "      <td>0.000000</td>\n",
       "      <td>1.000000</td>\n",
       "      <td>0.000000</td>\n",
       "    </tr>\n",
       "    <tr>\n",
       "      <th>max</th>\n",
       "      <td>10000.00000</td>\n",
       "      <td>13.000000</td>\n",
       "      <td>18.000000</td>\n",
       "      <td>12.000000</td>\n",
       "      <td>50791.683330</td>\n",
       "      <td>222230.850000</td>\n",
       "      <td>224290.716700</td>\n",
       "      <td>997.000000</td>\n",
       "      <td>380.000000</td>\n",
       "      <td>491.00000</td>\n",
       "      <td>516.000000</td>\n",
       "      <td>43.000000</td>\n",
       "      <td>1.000000</td>\n",
       "      <td>1.000000</td>\n",
       "      <td>1949.000000</td>\n",
       "    </tr>\n",
       "  </tbody>\n",
       "</table>\n",
       "</div>"
      ],
      "text/plain": [
       "              user         Grade  Active_subjects  Activated_subjects  \\\n",
       "count  10000.00000  10000.000000     10000.000000        10000.000000   \n",
       "mean    5000.50000      9.797800         3.191000            0.795200   \n",
       "std     2886.89568      2.631921         2.275618            1.341953   \n",
       "min        1.00000      0.000000         0.000000            0.000000   \n",
       "25%     2500.75000      8.000000         1.000000            0.000000   \n",
       "50%     5000.50000     11.000000         3.000000            0.000000   \n",
       "75%     7500.25000     12.000000         4.000000            1.000000   \n",
       "max    10000.00000     13.000000        18.000000           12.000000   \n",
       "\n",
       "       Live_time_spent  Replay_time_spent  Total_time_spent  Live_sessions  \\\n",
       "count     10000.000000       10000.000000      10000.000000   10000.000000   \n",
       "mean        306.072680         122.378147        428.450827      10.960600   \n",
       "std        1364.086468        2921.344010       3308.242143      40.082811   \n",
       "min           0.000000           0.000000          0.016667       0.000000   \n",
       "25%           1.800000           0.000000          4.879167       1.000000   \n",
       "50%          24.275000           1.550000         38.491667       2.000000   \n",
       "75%         172.837500          13.516667        226.658333       8.000000   \n",
       "max       50791.683330      222230.850000     224290.716700     997.000000   \n",
       "\n",
       "       Replay_sessions  Competition     Breakouts   Avg_ranking  Is_Converted  \\\n",
       "count     10000.000000  10000.00000  10000.000000  10000.000000  10000.000000   \n",
       "mean          3.333000      4.25540      2.614200      1.405977      0.031200   \n",
       "std           8.391481     17.66681     13.687932      3.198166      0.173867   \n",
       "min           0.000000      0.00000      0.000000      0.000000      0.000000   \n",
       "25%           0.000000      0.00000      0.000000      0.000000      0.000000   \n",
       "50%           1.000000      1.00000      0.000000      0.000000      0.000000   \n",
       "75%           3.000000      3.00000      1.000000      1.000000      0.000000   \n",
       "max         380.000000    491.00000    516.000000     43.000000      1.000000   \n",
       "\n",
       "       Is_Activated   Paid_amount  \n",
       "count  10000.000000  10000.000000  \n",
       "mean       0.459500      8.179270  \n",
       "std        0.498382     56.673568  \n",
       "min        0.000000      0.000000  \n",
       "25%        0.000000      0.000000  \n",
       "50%        0.000000      0.000000  \n",
       "75%        1.000000      0.000000  \n",
       "max        1.000000   1949.000000  "
      ]
     },
     "execution_count": 6,
     "metadata": {},
     "output_type": "execute_result"
    }
   ],
   "source": [
    "#Shows Statistics for each column.\n",
    "df.describe()"
   ]
  },
  {
   "cell_type": "code",
   "execution_count": 7,
   "metadata": {
    "slideshow": {
     "slide_type": "subslide"
    }
   },
   "outputs": [
    {
     "data": {
      "application/vnd.jupyter.widget-view+json": {
       "model_id": "495ad0ff9a8b45b58583c4060c7b30e6",
       "version_major": 2,
       "version_minor": 0
      },
      "text/plain": [
       "HBox(children=(HTML(value='Summarize dataset'), FloatProgress(value=0.0, max=27.0), HTML(value='')))"
      ]
     },
     "metadata": {},
     "output_type": "display_data"
    },
    {
     "name": "stdout",
     "output_type": "stream",
     "text": [
      "\n"
     ]
    },
    {
     "data": {
      "application/vnd.jupyter.widget-view+json": {
       "model_id": "7f871facf6aa45209b4857d3b2eebf3e",
       "version_major": 2,
       "version_minor": 0
      },
      "text/plain": [
       "HBox(children=(HTML(value='Generate report structure'), FloatProgress(value=0.0, max=1.0), HTML(value='')))"
      ]
     },
     "metadata": {},
     "output_type": "display_data"
    },
    {
     "name": "stderr",
     "output_type": "stream",
     "text": [
      "R:\\Anaconda\\lib\\site-packages\\pandas_profiling\\visualisation\\plot.py:166: MatplotlibDeprecationWarning: You are modifying the state of a globally registered colormap. In future versions, you will not be able to modify a registered colormap in-place. To remove this warning, you can make a copy of the colormap first. cmap = copy.copy(mpl.cm.get_cmap(\"RdBu\"))\n",
      "  cmap.set_bad(cmap_bad)\n"
     ]
    },
    {
     "name": "stdout",
     "output_type": "stream",
     "text": [
      "\n"
     ]
    },
    {
     "data": {
      "application/vnd.jupyter.widget-view+json": {
       "model_id": "e2778a2ad5cc4c3f92ccacc69ec66ae6",
       "version_major": 2,
       "version_minor": 0
      },
      "text/plain": [
       "HBox(children=(HTML(value='Render HTML'), FloatProgress(value=0.0, max=1.0), HTML(value='')))"
      ]
     },
     "metadata": {},
     "output_type": "display_data"
    },
    {
     "name": "stdout",
     "output_type": "stream",
     "text": [
      "\n"
     ]
    },
    {
     "data": {
      "application/vnd.jupyter.widget-view+json": {
       "model_id": "75d9e1c459f64d17ae17cf8a419caddc",
       "version_major": 2,
       "version_minor": 0
      },
      "text/plain": [
       "HBox(children=(HTML(value='Export report to file'), FloatProgress(value=0.0, max=1.0), HTML(value='')))"
      ]
     },
     "metadata": {},
     "output_type": "display_data"
    },
    {
     "name": "stdout",
     "output_type": "stream",
     "text": [
      "\n"
     ]
    }
   ],
   "source": [
    "#From pandas profil we get a full analysis over the dataset such as correlation, count values and description of each column.\n",
    "profile = ProfileReport(df)\n",
    "profile.to_file(output_file='reporting.html')"
   ]
  },
  {
   "cell_type": "markdown",
   "metadata": {
    "slideshow": {
     "slide_type": "slide"
    }
   },
   "source": [
    "# 1.1 Data Cleaning"
   ]
  },
  {
   "cell_type": "code",
   "execution_count": 8,
   "metadata": {
    "slideshow": {
     "slide_type": "subslide"
    }
   },
   "outputs": [],
   "source": [
    "#we remove values that exist only after the activation is done such as 'Activated_subjects' and the values that highly correlated to each other.\n",
    "df.drop(['Live_time_spent','Replay_time_spent','Activated_subjects','Paid_amount'], axis=1 ,inplace=True)"
   ]
  },
  {
   "cell_type": "code",
   "execution_count": 9,
   "metadata": {
    "scrolled": true,
    "slideshow": {
     "slide_type": "subslide"
    }
   },
   "outputs": [],
   "source": [
    "#remove zero values in grade.\n",
    "df = df[df['Grade']!=0]"
   ]
  },
  {
   "cell_type": "code",
   "execution_count": 10,
   "metadata": {
    "slideshow": {
     "slide_type": "subslide"
    }
   },
   "outputs": [],
   "source": [
    "#remove zero values in active subject.\n",
    "df = df[df['Active_subjects']!=0]"
   ]
  },
  {
   "cell_type": "code",
   "execution_count": 11,
   "metadata": {
    "scrolled": true,
    "slideshow": {
     "slide_type": "subslide"
    }
   },
   "outputs": [
    {
     "data": {
      "text/html": [
       "<div>\n",
       "<style scoped>\n",
       "    .dataframe tbody tr th:only-of-type {\n",
       "        vertical-align: middle;\n",
       "    }\n",
       "\n",
       "    .dataframe tbody tr th {\n",
       "        vertical-align: top;\n",
       "    }\n",
       "\n",
       "    .dataframe thead th {\n",
       "        text-align: right;\n",
       "    }\n",
       "</style>\n",
       "<table border=\"1\" class=\"dataframe\">\n",
       "  <thead>\n",
       "    <tr style=\"text-align: right;\">\n",
       "      <th></th>\n",
       "      <th>user</th>\n",
       "      <th>Grade</th>\n",
       "      <th>Active_subjects</th>\n",
       "      <th>Total_time_spent</th>\n",
       "      <th>Live_sessions</th>\n",
       "      <th>Replay_sessions</th>\n",
       "      <th>Competition</th>\n",
       "      <th>Breakouts</th>\n",
       "      <th>Avg_ranking</th>\n",
       "      <th>Is_Converted</th>\n",
       "      <th>Is_Activated</th>\n",
       "    </tr>\n",
       "  </thead>\n",
       "  <tbody>\n",
       "    <tr>\n",
       "      <th>0</th>\n",
       "      <td>1</td>\n",
       "      <td>6</td>\n",
       "      <td>1</td>\n",
       "      <td>83.300000</td>\n",
       "      <td>2</td>\n",
       "      <td>1</td>\n",
       "      <td>0</td>\n",
       "      <td>2</td>\n",
       "      <td>3.857143</td>\n",
       "      <td>0</td>\n",
       "      <td>1</td>\n",
       "    </tr>\n",
       "    <tr>\n",
       "      <th>1</th>\n",
       "      <td>2</td>\n",
       "      <td>12</td>\n",
       "      <td>1</td>\n",
       "      <td>13.800000</td>\n",
       "      <td>0</td>\n",
       "      <td>1</td>\n",
       "      <td>0</td>\n",
       "      <td>0</td>\n",
       "      <td>0.000000</td>\n",
       "      <td>0</td>\n",
       "      <td>0</td>\n",
       "    </tr>\n",
       "    <tr>\n",
       "      <th>2</th>\n",
       "      <td>3</td>\n",
       "      <td>12</td>\n",
       "      <td>1</td>\n",
       "      <td>55.183333</td>\n",
       "      <td>0</td>\n",
       "      <td>2</td>\n",
       "      <td>0</td>\n",
       "      <td>0</td>\n",
       "      <td>0.000000</td>\n",
       "      <td>0</td>\n",
       "      <td>0</td>\n",
       "    </tr>\n",
       "    <tr>\n",
       "      <th>3</th>\n",
       "      <td>4</td>\n",
       "      <td>12</td>\n",
       "      <td>1</td>\n",
       "      <td>7.216667</td>\n",
       "      <td>0</td>\n",
       "      <td>0</td>\n",
       "      <td>2</td>\n",
       "      <td>0</td>\n",
       "      <td>0.000000</td>\n",
       "      <td>0</td>\n",
       "      <td>0</td>\n",
       "    </tr>\n",
       "    <tr>\n",
       "      <th>4</th>\n",
       "      <td>5</td>\n",
       "      <td>9</td>\n",
       "      <td>2</td>\n",
       "      <td>0.250000</td>\n",
       "      <td>0</td>\n",
       "      <td>1</td>\n",
       "      <td>0</td>\n",
       "      <td>0</td>\n",
       "      <td>0.000000</td>\n",
       "      <td>0</td>\n",
       "      <td>0</td>\n",
       "    </tr>\n",
       "  </tbody>\n",
       "</table>\n",
       "</div>"
      ],
      "text/plain": [
       "   user  Grade  Active_subjects  Total_time_spent  Live_sessions  \\\n",
       "0     1      6                1         83.300000              2   \n",
       "1     2     12                1         13.800000              0   \n",
       "2     3     12                1         55.183333              0   \n",
       "3     4     12                1          7.216667              0   \n",
       "4     5      9                2          0.250000              0   \n",
       "\n",
       "   Replay_sessions  Competition  Breakouts  Avg_ranking  Is_Converted  \\\n",
       "0                1            0          2     3.857143             0   \n",
       "1                1            0          0     0.000000             0   \n",
       "2                2            0          0     0.000000             0   \n",
       "3                0            2          0     0.000000             0   \n",
       "4                1            0          0     0.000000             0   \n",
       "\n",
       "   Is_Activated  \n",
       "0             1  \n",
       "1             0  \n",
       "2             0  \n",
       "3             0  \n",
       "4             0  "
      ]
     },
     "execution_count": 11,
     "metadata": {},
     "output_type": "execute_result"
    }
   ],
   "source": [
    "#shows first 5 rows after cleaning.\n",
    "df.head()"
   ]
  },
  {
   "cell_type": "code",
   "execution_count": 12,
   "metadata": {
    "slideshow": {
     "slide_type": "skip"
    }
   },
   "outputs": [
    {
     "data": {
      "text/html": [
       "<div>\n",
       "<style scoped>\n",
       "    .dataframe tbody tr th:only-of-type {\n",
       "        vertical-align: middle;\n",
       "    }\n",
       "\n",
       "    .dataframe tbody tr th {\n",
       "        vertical-align: top;\n",
       "    }\n",
       "\n",
       "    .dataframe thead th {\n",
       "        text-align: right;\n",
       "    }\n",
       "</style>\n",
       "<table border=\"1\" class=\"dataframe\">\n",
       "  <thead>\n",
       "    <tr style=\"text-align: right;\">\n",
       "      <th></th>\n",
       "      <th>user</th>\n",
       "      <th>Grade</th>\n",
       "      <th>Active_subjects</th>\n",
       "      <th>Total_time_spent</th>\n",
       "      <th>Live_sessions</th>\n",
       "      <th>Replay_sessions</th>\n",
       "      <th>Competition</th>\n",
       "      <th>Breakouts</th>\n",
       "      <th>Avg_ranking</th>\n",
       "      <th>Is_Converted</th>\n",
       "      <th>Is_Activated</th>\n",
       "    </tr>\n",
       "  </thead>\n",
       "  <tbody>\n",
       "    <tr>\n",
       "      <th>9995</th>\n",
       "      <td>9996</td>\n",
       "      <td>12</td>\n",
       "      <td>2</td>\n",
       "      <td>106.200000</td>\n",
       "      <td>0</td>\n",
       "      <td>3</td>\n",
       "      <td>0</td>\n",
       "      <td>0</td>\n",
       "      <td>0.0</td>\n",
       "      <td>0</td>\n",
       "      <td>1</td>\n",
       "    </tr>\n",
       "    <tr>\n",
       "      <th>9996</th>\n",
       "      <td>9997</td>\n",
       "      <td>10</td>\n",
       "      <td>4</td>\n",
       "      <td>68.316667</td>\n",
       "      <td>3</td>\n",
       "      <td>0</td>\n",
       "      <td>1</td>\n",
       "      <td>3</td>\n",
       "      <td>1.0</td>\n",
       "      <td>0</td>\n",
       "      <td>1</td>\n",
       "    </tr>\n",
       "    <tr>\n",
       "      <th>9997</th>\n",
       "      <td>9998</td>\n",
       "      <td>12</td>\n",
       "      <td>2</td>\n",
       "      <td>175.466667</td>\n",
       "      <td>0</td>\n",
       "      <td>6</td>\n",
       "      <td>0</td>\n",
       "      <td>0</td>\n",
       "      <td>0.0</td>\n",
       "      <td>0</td>\n",
       "      <td>1</td>\n",
       "    </tr>\n",
       "    <tr>\n",
       "      <th>9998</th>\n",
       "      <td>9999</td>\n",
       "      <td>11</td>\n",
       "      <td>1</td>\n",
       "      <td>1.400000</td>\n",
       "      <td>0</td>\n",
       "      <td>2</td>\n",
       "      <td>0</td>\n",
       "      <td>0</td>\n",
       "      <td>0.0</td>\n",
       "      <td>0</td>\n",
       "      <td>0</td>\n",
       "    </tr>\n",
       "    <tr>\n",
       "      <th>9999</th>\n",
       "      <td>10000</td>\n",
       "      <td>11</td>\n",
       "      <td>3</td>\n",
       "      <td>29.550000</td>\n",
       "      <td>0</td>\n",
       "      <td>2</td>\n",
       "      <td>1</td>\n",
       "      <td>0</td>\n",
       "      <td>0.0</td>\n",
       "      <td>0</td>\n",
       "      <td>0</td>\n",
       "    </tr>\n",
       "  </tbody>\n",
       "</table>\n",
       "</div>"
      ],
      "text/plain": [
       "       user  Grade  Active_subjects  Total_time_spent  Live_sessions  \\\n",
       "9995   9996     12                2        106.200000              0   \n",
       "9996   9997     10                4         68.316667              3   \n",
       "9997   9998     12                2        175.466667              0   \n",
       "9998   9999     11                1          1.400000              0   \n",
       "9999  10000     11                3         29.550000              0   \n",
       "\n",
       "      Replay_sessions  Competition  Breakouts  Avg_ranking  Is_Converted  \\\n",
       "9995                3            0          0          0.0             0   \n",
       "9996                0            1          3          1.0             0   \n",
       "9997                6            0          0          0.0             0   \n",
       "9998                2            0          0          0.0             0   \n",
       "9999                2            1          0          0.0             0   \n",
       "\n",
       "      Is_Activated  \n",
       "9995             1  \n",
       "9996             1  \n",
       "9997             1  \n",
       "9998             0  \n",
       "9999             0  "
      ]
     },
     "execution_count": 12,
     "metadata": {},
     "output_type": "execute_result"
    }
   ],
   "source": [
    "#shows last 5 rows after cleaning.\n",
    "df.tail()"
   ]
  },
  {
   "cell_type": "code",
   "execution_count": 13,
   "metadata": {
    "scrolled": true,
    "slideshow": {
     "slide_type": "subslide"
    }
   },
   "outputs": [
    {
     "data": {
      "text/html": [
       "<div>\n",
       "<style scoped>\n",
       "    .dataframe tbody tr th:only-of-type {\n",
       "        vertical-align: middle;\n",
       "    }\n",
       "\n",
       "    .dataframe tbody tr th {\n",
       "        vertical-align: top;\n",
       "    }\n",
       "\n",
       "    .dataframe thead th {\n",
       "        text-align: right;\n",
       "    }\n",
       "</style>\n",
       "<table border=\"1\" class=\"dataframe\">\n",
       "  <thead>\n",
       "    <tr style=\"text-align: right;\">\n",
       "      <th></th>\n",
       "      <th>user</th>\n",
       "      <th>Grade</th>\n",
       "      <th>Active_subjects</th>\n",
       "      <th>Total_time_spent</th>\n",
       "      <th>Live_sessions</th>\n",
       "      <th>Replay_sessions</th>\n",
       "      <th>Competition</th>\n",
       "      <th>Breakouts</th>\n",
       "      <th>Avg_ranking</th>\n",
       "      <th>Is_Converted</th>\n",
       "      <th>Is_Activated</th>\n",
       "    </tr>\n",
       "  </thead>\n",
       "  <tbody>\n",
       "    <tr>\n",
       "      <th>count</th>\n",
       "      <td>9800.000000</td>\n",
       "      <td>9800.000000</td>\n",
       "      <td>9800.000000</td>\n",
       "      <td>9800.000000</td>\n",
       "      <td>9800.000000</td>\n",
       "      <td>9800.000000</td>\n",
       "      <td>9800.000000</td>\n",
       "      <td>9800.000000</td>\n",
       "      <td>9800.000000</td>\n",
       "      <td>9800.000000</td>\n",
       "      <td>9800.000000</td>\n",
       "    </tr>\n",
       "    <tr>\n",
       "      <th>mean</th>\n",
       "      <td>4995.696224</td>\n",
       "      <td>9.986939</td>\n",
       "      <td>3.206735</td>\n",
       "      <td>429.922175</td>\n",
       "      <td>10.965612</td>\n",
       "      <td>3.314898</td>\n",
       "      <td>4.252653</td>\n",
       "      <td>2.614184</td>\n",
       "      <td>1.408028</td>\n",
       "      <td>0.030918</td>\n",
       "      <td>0.461531</td>\n",
       "    </tr>\n",
       "    <tr>\n",
       "      <th>std</th>\n",
       "      <td>2886.456393</td>\n",
       "      <td>2.274291</td>\n",
       "      <td>2.262522</td>\n",
       "      <td>3335.934656</td>\n",
       "      <td>40.113788</td>\n",
       "      <td>8.350657</td>\n",
       "      <td>17.744460</td>\n",
       "      <td>13.687987</td>\n",
       "      <td>3.206991</td>\n",
       "      <td>0.173105</td>\n",
       "      <td>0.498543</td>\n",
       "    </tr>\n",
       "    <tr>\n",
       "      <th>min</th>\n",
       "      <td>1.000000</td>\n",
       "      <td>1.000000</td>\n",
       "      <td>1.000000</td>\n",
       "      <td>0.016667</td>\n",
       "      <td>0.000000</td>\n",
       "      <td>0.000000</td>\n",
       "      <td>0.000000</td>\n",
       "      <td>0.000000</td>\n",
       "      <td>0.000000</td>\n",
       "      <td>0.000000</td>\n",
       "      <td>0.000000</td>\n",
       "    </tr>\n",
       "    <tr>\n",
       "      <th>25%</th>\n",
       "      <td>2498.750000</td>\n",
       "      <td>9.000000</td>\n",
       "      <td>1.000000</td>\n",
       "      <td>5.050000</td>\n",
       "      <td>1.000000</td>\n",
       "      <td>0.000000</td>\n",
       "      <td>0.000000</td>\n",
       "      <td>0.000000</td>\n",
       "      <td>0.000000</td>\n",
       "      <td>0.000000</td>\n",
       "      <td>0.000000</td>\n",
       "    </tr>\n",
       "    <tr>\n",
       "      <th>50%</th>\n",
       "      <td>4999.500000</td>\n",
       "      <td>11.000000</td>\n",
       "      <td>3.000000</td>\n",
       "      <td>38.833333</td>\n",
       "      <td>2.000000</td>\n",
       "      <td>1.000000</td>\n",
       "      <td>1.000000</td>\n",
       "      <td>0.000000</td>\n",
       "      <td>0.000000</td>\n",
       "      <td>0.000000</td>\n",
       "      <td>0.000000</td>\n",
       "    </tr>\n",
       "    <tr>\n",
       "      <th>75%</th>\n",
       "      <td>7492.250000</td>\n",
       "      <td>12.000000</td>\n",
       "      <td>4.000000</td>\n",
       "      <td>226.658333</td>\n",
       "      <td>8.000000</td>\n",
       "      <td>3.000000</td>\n",
       "      <td>3.000000</td>\n",
       "      <td>1.000000</td>\n",
       "      <td>1.000000</td>\n",
       "      <td>0.000000</td>\n",
       "      <td>1.000000</td>\n",
       "    </tr>\n",
       "    <tr>\n",
       "      <th>max</th>\n",
       "      <td>10000.000000</td>\n",
       "      <td>13.000000</td>\n",
       "      <td>18.000000</td>\n",
       "      <td>224290.716700</td>\n",
       "      <td>997.000000</td>\n",
       "      <td>380.000000</td>\n",
       "      <td>491.000000</td>\n",
       "      <td>516.000000</td>\n",
       "      <td>43.000000</td>\n",
       "      <td>1.000000</td>\n",
       "      <td>1.000000</td>\n",
       "    </tr>\n",
       "  </tbody>\n",
       "</table>\n",
       "</div>"
      ],
      "text/plain": [
       "               user        Grade  Active_subjects  Total_time_spent  \\\n",
       "count   9800.000000  9800.000000      9800.000000       9800.000000   \n",
       "mean    4995.696224     9.986939         3.206735        429.922175   \n",
       "std     2886.456393     2.274291         2.262522       3335.934656   \n",
       "min        1.000000     1.000000         1.000000          0.016667   \n",
       "25%     2498.750000     9.000000         1.000000          5.050000   \n",
       "50%     4999.500000    11.000000         3.000000         38.833333   \n",
       "75%     7492.250000    12.000000         4.000000        226.658333   \n",
       "max    10000.000000    13.000000        18.000000     224290.716700   \n",
       "\n",
       "       Live_sessions  Replay_sessions  Competition    Breakouts  Avg_ranking  \\\n",
       "count    9800.000000      9800.000000  9800.000000  9800.000000  9800.000000   \n",
       "mean       10.965612         3.314898     4.252653     2.614184     1.408028   \n",
       "std        40.113788         8.350657    17.744460    13.687987     3.206991   \n",
       "min         0.000000         0.000000     0.000000     0.000000     0.000000   \n",
       "25%         1.000000         0.000000     0.000000     0.000000     0.000000   \n",
       "50%         2.000000         1.000000     1.000000     0.000000     0.000000   \n",
       "75%         8.000000         3.000000     3.000000     1.000000     1.000000   \n",
       "max       997.000000       380.000000   491.000000   516.000000    43.000000   \n",
       "\n",
       "       Is_Converted  Is_Activated  \n",
       "count   9800.000000   9800.000000  \n",
       "mean       0.030918      0.461531  \n",
       "std        0.173105      0.498543  \n",
       "min        0.000000      0.000000  \n",
       "25%        0.000000      0.000000  \n",
       "50%        0.000000      0.000000  \n",
       "75%        0.000000      1.000000  \n",
       "max        1.000000      1.000000  "
      ]
     },
     "execution_count": 13,
     "metadata": {},
     "output_type": "execute_result"
    }
   ],
   "source": [
    "#Shows Statistics for each column.\n",
    "df.describe()"
   ]
  },
  {
   "cell_type": "code",
   "execution_count": 14,
   "metadata": {
    "slideshow": {
     "slide_type": "subslide"
    }
   },
   "outputs": [
    {
     "data": {
      "application/vnd.jupyter.widget-view+json": {
       "model_id": "e76b2fdb10194c5caa44feb330fc2016",
       "version_major": 2,
       "version_minor": 0
      },
      "text/plain": [
       "HBox(children=(HTML(value='Summarize dataset'), FloatProgress(value=0.0, max=24.0), HTML(value='')))"
      ]
     },
     "metadata": {},
     "output_type": "display_data"
    },
    {
     "name": "stdout",
     "output_type": "stream",
     "text": [
      "\n"
     ]
    },
    {
     "data": {
      "application/vnd.jupyter.widget-view+json": {
       "model_id": "5ac7c042979e4505818d3667eda6db60",
       "version_major": 2,
       "version_minor": 0
      },
      "text/plain": [
       "HBox(children=(HTML(value='Generate report structure'), FloatProgress(value=0.0, max=1.0), HTML(value='')))"
      ]
     },
     "metadata": {},
     "output_type": "display_data"
    },
    {
     "name": "stderr",
     "output_type": "stream",
     "text": [
      "R:\\Anaconda\\lib\\site-packages\\pandas_profiling\\visualisation\\plot.py:166: MatplotlibDeprecationWarning: You are modifying the state of a globally registered colormap. In future versions, you will not be able to modify a registered colormap in-place. To remove this warning, you can make a copy of the colormap first. cmap = copy.copy(mpl.cm.get_cmap(\"RdBu\"))\n",
      "  cmap.set_bad(cmap_bad)\n"
     ]
    },
    {
     "name": "stdout",
     "output_type": "stream",
     "text": [
      "\n"
     ]
    },
    {
     "data": {
      "application/vnd.jupyter.widget-view+json": {
       "model_id": "3f4ffa8cdf5e4bf4a9d41e8dc3b8738c",
       "version_major": 2,
       "version_minor": 0
      },
      "text/plain": [
       "HBox(children=(HTML(value='Render HTML'), FloatProgress(value=0.0, max=1.0), HTML(value='')))"
      ]
     },
     "metadata": {},
     "output_type": "display_data"
    },
    {
     "name": "stdout",
     "output_type": "stream",
     "text": [
      "\n"
     ]
    },
    {
     "data": {
      "application/vnd.jupyter.widget-view+json": {
       "model_id": "ab4d050410084d98a4f4660c6e5df653",
       "version_major": 2,
       "version_minor": 0
      },
      "text/plain": [
       "HBox(children=(HTML(value='Export report to file'), FloatProgress(value=0.0, max=1.0), HTML(value='')))"
      ]
     },
     "metadata": {},
     "output_type": "display_data"
    },
    {
     "name": "stdout",
     "output_type": "stream",
     "text": [
      "\n"
     ]
    }
   ],
   "source": [
    "#From pandas profil we get a full analysis over the dataset such as correlation, count values and description of each column after cleaning.\n",
    "profile = ProfileReport(df)\n",
    "profile.to_file(output_file='reporting1.html');"
   ]
  },
  {
   "cell_type": "markdown",
   "metadata": {
    "slideshow": {
     "slide_type": "slide"
    }
   },
   "source": [
    "# 1.2 Data visualization"
   ]
  },
  {
   "cell_type": "code",
   "execution_count": 15,
   "metadata": {
    "scrolled": true,
    "slideshow": {
     "slide_type": "skip"
    }
   },
   "outputs": [],
   "source": [
    "#get our Feature (X) and our Target (y).\n",
    "X = df.drop(['Is_Activated','user','Grade','Total_time_spent'], axis=1)\n",
    "y = df['Is_Activated']\n"
   ]
  },
  {
   "attachments": {
    "Activated%20Students.png": {
     "image/png": "[encoded data removed]"
    }
   },
   "cell_type": "markdown",
   "metadata": {
    "slideshow": {
     "slide_type": "subslide"
    }
   },
   "source": [
    "- here is the split of our activated/non activated students\n",
    "![Activated%20Students.png](attachment:Activated%20Students.png)"
   ]
  },
  {
   "attachments": {
    "Live%20sessions.png": {
     "image/png": "[encoded data removed]"
    }
   },
   "cell_type": "markdown",
   "metadata": {
    "slideshow": {
     "slide_type": "subslide"
    }
   },
   "source": [
    "- comparison between activated/non activated students in number of live sessions\n",
    "![Live%20sessions.png](attachment:Live%20sessions.png)"
   ]
  },
  {
   "attachments": {
    "Replay%20sessions.png": {
     "image/png": "[encoded data removed]"
    }
   },
   "cell_type": "markdown",
   "metadata": {
    "slideshow": {
     "slide_type": "subslide"
    }
   },
   "source": [
    "- comparison between activated/non activated students in number of replay sessions\n",
    "\n",
    "![Replay%20sessions.png](attachment:Replay%20sessions.png)"
   ]
  },
  {
   "attachments": {
    "Competitions.png": {
     "image/png": "[encoded data removed]"
    }
   },
   "cell_type": "markdown",
   "metadata": {
    "slideshow": {
     "slide_type": "subslide"
    }
   },
   "source": [
    "- comparison between activated/non activated students in number of competitions\n",
    "![Competitions.png](attachment:Competitions.png)"
   ]
  },
  {
   "attachments": {
    "Breakouts.png": {
     "image/png": "[encoded data removed]"
    }
   },
   "cell_type": "markdown",
   "metadata": {},
   "source": [
    "- comparison between activated/non activated students in number of breakouts\n",
    "![Breakouts.png](attachment:Breakouts.png)"
   ]
  },
  {
   "attachments": {
    "Converted%20students.png": {
     "image/png": "[encoded data removed]"
    }
   },
   "cell_type": "markdown",
   "metadata": {
    "slideshow": {
     "slide_type": "subslide"
    }
   },
   "source": [
    "- all converted student splitted over bieng activated/non activated\n",
    "![Converted%20students.png](attachment:Converted%20students.png)"
   ]
  },
  {
   "cell_type": "markdown",
   "metadata": {
    "slideshow": {
     "slide_type": "slide"
    }
   },
   "source": [
    "# 2. Data Pre-Processing\n",
    "\n"
   ]
  },
  {
   "cell_type": "code",
   "execution_count": 16,
   "metadata": {},
   "outputs": [],
   "source": [
    "#importing important libraries for feature scaling and splitting the data into test data and train data.\n",
    "from sklearn.model_selection import train_test_split\n",
    "from sklearn.preprocessing import StandardScaler"
   ]
  },
  {
   "cell_type": "code",
   "execution_count": 17,
   "metadata": {
    "slideshow": {
     "slide_type": "subslide"
    }
   },
   "outputs": [],
   "source": [
    "# splitting the data into test data and a training data.\n",
    "X_train, X_test, y_train, y_test = train_test_split(X, y, test_size=0.2, random_state=42)\n",
    "\n",
    "# scaling our feature using the standardscaler.\n",
    "sc = StandardScaler()\n",
    "X_train[X_train.columns] = sc.fit_transform(X_train[X_train.columns])\n",
    "X_test[X_test.columns] = sc.fit_transform(X_test[X_test.columns])"
   ]
  },
  {
   "cell_type": "markdown",
   "metadata": {
    "slideshow": {
     "slide_type": "slide"
    }
   },
   "source": [
    "# 3. Prediction Models\n",
    "\n",
    "\n"
   ]
  },
  {
   "cell_type": "markdown",
   "metadata": {
    "slideshow": {
     "slide_type": "slide"
    }
   },
   "source": [
    "# 3.1 Logistic Regression"
   ]
  },
  {
   "cell_type": "code",
   "execution_count": 19,
   "metadata": {
    "scrolled": true,
    "slideshow": {
     "slide_type": "subslide"
    }
   },
   "outputs": [
    {
     "data": {
      "text/plain": [
       "LogisticRegression(random_state=42)"
      ]
     },
     "execution_count": 19,
     "metadata": {},
     "output_type": "execute_result"
    }
   ],
   "source": [
    "# importing logistic regression model.\n",
    "from sklearn.linear_model import LogisticRegression\n",
    "\n",
    "#calling the logistic regression model.\n",
    "lr = LogisticRegression(random_state = 42)\n",
    "\n",
    "# fitting the model.\n",
    "lr.fit(X_train, y_train)\n"
   ]
  },
  {
   "cell_type": "code",
   "execution_count": 20,
   "metadata": {
    "scrolled": true,
    "slideshow": {
     "slide_type": "subslide"
    }
   },
   "outputs": [],
   "source": [
    "# predicting using the test data (x_test).\n",
    "y_pred = lr.predict(X_test)"
   ]
  },
  {
   "cell_type": "code",
   "execution_count": 21,
   "metadata": {
    "slideshow": {
     "slide_type": "subslide"
    }
   },
   "outputs": [
    {
     "name": "stdout",
     "output_type": "stream",
     "text": [
      "[[979  84]\n",
      " [160 737]]\n",
      "0.8755102040816326\n",
      "              precision    recall  f1-score   support\n",
      "\n",
      "           0       0.86      0.92      0.89      1063\n",
      "           1       0.90      0.82      0.86       897\n",
      "\n",
      "    accuracy                           0.88      1960\n",
      "   macro avg       0.88      0.87      0.87      1960\n",
      "weighted avg       0.88      0.88      0.87      1960\n",
      "\n"
     ]
    }
   ],
   "source": [
    "# importing important libraries for evaluating classification models.\n",
    "from sklearn.metrics import confusion_matrix, accuracy_score, mean_squared_error\n",
    "from sklearn.metrics import classification_report\n",
    "\n",
    "# printing the confusion matrix.\n",
    "print(confusion_matrix(y_test, y_pred))\n",
    "\n",
    "# printing the accuracy score.\n",
    "print(accuracy_score(y_test, y_pred))\n",
    "\n",
    "# printing the classification report.\n",
    "print(classification_report(y_test,y_pred))"
   ]
  },
  {
   "cell_type": "markdown",
   "metadata": {
    "slideshow": {
     "slide_type": "slide"
    }
   },
   "source": [
    "# 3.2 Random Forest"
   ]
  },
  {
   "cell_type": "code",
   "execution_count": 22,
   "metadata": {
    "slideshow": {
     "slide_type": "subslide"
    }
   },
   "outputs": [
    {
     "data": {
      "text/plain": [
       "RandomForestClassifier(n_estimators=1200)"
      ]
     },
     "execution_count": 22,
     "metadata": {},
     "output_type": "execute_result"
    }
   ],
   "source": [
    "# importing Random Forest Classifier model.\n",
    "from sklearn.ensemble import RandomForestClassifier\n",
    "\n",
    "# by trial and error i found n_estimators = 1200 gives the best results for random forest.\n",
    "rfc = RandomForestClassifier(n_estimators=1200)\n",
    "\n",
    "# fitting the model with the training data.\n",
    "rfc.fit(X_train,y_train)"
   ]
  },
  {
   "cell_type": "code",
   "execution_count": 23,
   "metadata": {
    "slideshow": {
     "slide_type": "subslide"
    }
   },
   "outputs": [],
   "source": [
    "# predicting using the test data (x_train).\n",
    "y_pred1 = rfc.predict(X_test)"
   ]
  },
  {
   "cell_type": "code",
   "execution_count": 24,
   "metadata": {
    "slideshow": {
     "slide_type": "subslide"
    }
   },
   "outputs": [
    {
     "name": "stdout",
     "output_type": "stream",
     "text": [
      "[[911 152]\n",
      " [134 763]]\n",
      "0.8540816326530613\n",
      "              precision    recall  f1-score   support\n",
      "\n",
      "           0       0.87      0.86      0.86      1063\n",
      "           1       0.83      0.85      0.84       897\n",
      "\n",
      "    accuracy                           0.85      1960\n",
      "   macro avg       0.85      0.85      0.85      1960\n",
      "weighted avg       0.85      0.85      0.85      1960\n",
      "\n"
     ]
    }
   ],
   "source": [
    "# printing the confusion matrix.\n",
    "print(confusion_matrix(y_test, y_pred1))\n",
    "\n",
    "# printing the accuracy score.\n",
    "print(accuracy_score(y_test, y_pred1))\n",
    "\n",
    "# printing the classification report.\n",
    "print(classification_report(y_test,y_pred1))"
   ]
  },
  {
   "cell_type": "markdown",
   "metadata": {
    "slideshow": {
     "slide_type": "slide"
    }
   },
   "source": [
    "# 3.3 XGBoost "
   ]
  },
  {
   "cell_type": "code",
   "execution_count": 30,
   "metadata": {
    "slideshow": {
     "slide_type": "skip"
    }
   },
   "outputs": [],
   "source": [
    "# importing xgboost model.\n",
    "import xgboost as xgb"
   ]
  },
  {
   "cell_type": "code",
   "execution_count": 31,
   "metadata": {
    "slideshow": {
     "slide_type": "subslide"
    }
   },
   "outputs": [],
   "source": [
    "# i tried multiple values for n_estimators but it did not make any difference so i set it to match the random forest\n",
    "gbm = xgb.XGBClassifier( \n",
    "                        n_estimators=1200,\n",
    "                        max_depth=4,\n",
    "                        objective='binary:logistic',\n",
    "                        learning_rate=.05, \n",
    "                        subsample=.8,\n",
    "                        min_child_weight=3,\n",
    "                        colsample_bytree=.8,\n",
    "                        use_label_encoder=False\n",
    "                       );\n",
    "\n",
    "eval_set=[(X_train,y_train),(X_test,y_test)]\n",
    "# fitting the model with the training data, the evaluation set and the evaluation metric (error)\n",
    "fit_model = gbm.fit( \n",
    "                    X_train, y_train, \n",
    "                    eval_set=eval_set,\n",
    "                    eval_metric='error', #new evaluation metric: classification error \n",
    "                    early_stopping_rounds=50,\n",
    "                    verbose=False\n",
    "                   );\n",
    "\n"
   ]
  },
  {
   "cell_type": "code",
   "execution_count": 32,
   "metadata": {
    "slideshow": {
     "slide_type": "subslide"
    }
   },
   "outputs": [],
   "source": [
    "# predicting using the test data (x_test).\n",
    "y_pred2 = gbm.predict(X_test)"
   ]
  },
  {
   "cell_type": "code",
   "execution_count": 33,
   "metadata": {
    "scrolled": false,
    "slideshow": {
     "slide_type": "subslide"
    }
   },
   "outputs": [
    {
     "name": "stdout",
     "output_type": "stream",
     "text": [
      "[[971  92]\n",
      " [145 752]]\n",
      "0.8790816326530613\n",
      "              precision    recall  f1-score   support\n",
      "\n",
      "           0       0.87      0.91      0.89      1063\n",
      "           1       0.89      0.84      0.86       897\n",
      "\n",
      "    accuracy                           0.88      1960\n",
      "   macro avg       0.88      0.88      0.88      1960\n",
      "weighted avg       0.88      0.88      0.88      1960\n",
      "\n"
     ]
    }
   ],
   "source": [
    "# printing the confusion matrix\n",
    "print(confusion_matrix(y_test, y_pred2))\n",
    "\n",
    "# printing the accuracy score\n",
    "print(accuracy_score(y_test, y_pred2))\n",
    "\n",
    "# printing the classification report\n",
    "print(classification_report(y_test,y_pred2))"
   ]
  },
  {
   "cell_type": "code",
   "execution_count": 29,
   "metadata": {
    "scrolled": false,
    "slideshow": {
     "slide_type": "subslide"
    }
   },
   "outputs": [
    {
     "data": {
      "image/png": "[encoded data removed]",
      "text/plain": [
       "<Figure size 1440x720 with 1 Axes>"
      ]
     },
     "metadata": {},
     "output_type": "display_data"
    }
   ],
   "source": [
    "# importance plot to show which featue had the most affect on the model.\n",
    "feature_important = gbm.get_booster().get_score(importance_type='weight')\n",
    "keys = list(feature_important.keys())\n",
    "values = list(feature_important.values())\n",
    "df = pd.DataFrame(data=values, index=keys, columns=[\"score\"]).sort_values(by = \"score\", ascending=False)\n",
    "df.nlargest(10, columns=\"score\").sort_values(by='score',ascending=True).plot(kind='barh', figsize = (20,10));\n"
   ]
  }
 ],
 "metadata": {
  "celltoolbar": "Slideshow",
  "kernelspec": {
   "display_name": "Python 3",
   "language": "python",
   "name": "python3"
  },
  "language_info": {
   "codemirror_mode": {
    "name": "ipython",
    "version": 3
   },
   "file_extension": ".py",
   "mimetype": "text/x-python",
   "name": "python",
   "nbconvert_exporter": "python",
   "pygments_lexer": "ipython3",
   "version": "3.8.5"
  }
 },
 "nbformat": 4,
 "nbformat_minor": 4
}
